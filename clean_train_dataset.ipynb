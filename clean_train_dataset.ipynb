{
 "cells": [
  {
   "cell_type": "code",
   "execution_count": 2,
   "metadata": {},
   "outputs": [],
   "source": [
    "# all libraries that are needed\n",
    "import tensorflow as tf\n",
    "import numpy as np \n",
    "import pandas as pd\n"
   ]
  },
  {
   "cell_type": "code",
   "execution_count": 16,
   "metadata": {},
   "outputs": [
    {
     "data": {
      "text/html": [
       "<div>\n",
       "<style scoped>\n",
       "    .dataframe tbody tr th:only-of-type {\n",
       "        vertical-align: middle;\n",
       "    }\n",
       "\n",
       "    .dataframe tbody tr th {\n",
       "        vertical-align: top;\n",
       "    }\n",
       "\n",
       "    .dataframe thead th {\n",
       "        text-align: right;\n",
       "    }\n",
       "</style>\n",
       "<table border=\"1\" class=\"dataframe\">\n",
       "  <thead>\n",
       "    <tr style=\"text-align: right;\">\n",
       "      <th></th>\n",
       "      <th>userId</th>\n",
       "      <th>movieId</th>\n",
       "      <th>rating</th>\n",
       "      <th>timestamp</th>\n",
       "    </tr>\n",
       "  </thead>\n",
       "  <tbody>\n",
       "    <tr>\n",
       "      <th>0</th>\n",
       "      <td>1</td>\n",
       "      <td>1</td>\n",
       "      <td>4.0</td>\n",
       "      <td>1225734739</td>\n",
       "    </tr>\n",
       "    <tr>\n",
       "      <th>1</th>\n",
       "      <td>1</td>\n",
       "      <td>110</td>\n",
       "      <td>4.0</td>\n",
       "      <td>1225865086</td>\n",
       "    </tr>\n",
       "    <tr>\n",
       "      <th>2</th>\n",
       "      <td>1</td>\n",
       "      <td>158</td>\n",
       "      <td>4.0</td>\n",
       "      <td>1225733503</td>\n",
       "    </tr>\n",
       "    <tr>\n",
       "      <th>3</th>\n",
       "      <td>1</td>\n",
       "      <td>260</td>\n",
       "      <td>4.5</td>\n",
       "      <td>1225735204</td>\n",
       "    </tr>\n",
       "    <tr>\n",
       "      <th>4</th>\n",
       "      <td>1</td>\n",
       "      <td>356</td>\n",
       "      <td>5.0</td>\n",
       "      <td>1225735119</td>\n",
       "    </tr>\n",
       "  </tbody>\n",
       "</table>\n",
       "</div>"
      ],
      "text/plain": [
       "   userId  movieId  rating   timestamp\n",
       "0       1        1     4.0  1225734739\n",
       "1       1      110     4.0  1225865086\n",
       "2       1      158     4.0  1225733503\n",
       "3       1      260     4.5  1225735204\n",
       "4       1      356     5.0  1225735119"
      ]
     },
     "execution_count": 16,
     "metadata": {},
     "output_type": "execute_result"
    }
   ],
   "source": [
    "user_ratings = pd.read_csv('./data/user_ratings/ratings.csv')\n",
    "user_ratings.head()"
   ]
  },
  {
   "cell_type": "code",
   "execution_count": 21,
   "metadata": {},
   "outputs": [
    {
     "data": {
      "text/html": [
       "<div>\n",
       "<style scoped>\n",
       "    .dataframe tbody tr th:only-of-type {\n",
       "        vertical-align: middle;\n",
       "    }\n",
       "\n",
       "    .dataframe tbody tr th {\n",
       "        vertical-align: top;\n",
       "    }\n",
       "\n",
       "    .dataframe thead th {\n",
       "        text-align: right;\n",
       "    }\n",
       "</style>\n",
       "<table border=\"1\" class=\"dataframe\">\n",
       "  <thead>\n",
       "    <tr style=\"text-align: right;\">\n",
       "      <th></th>\n",
       "      <th>userId</th>\n",
       "      <th>movieId</th>\n",
       "      <th>rating</th>\n",
       "      <th>timestamp</th>\n",
       "    </tr>\n",
       "  </thead>\n",
       "  <tbody>\n",
       "    <tr>\n",
       "      <th>0</th>\n",
       "      <td>1</td>\n",
       "      <td>1</td>\n",
       "      <td>4.0</td>\n",
       "      <td>1225734739</td>\n",
       "    </tr>\n",
       "    <tr>\n",
       "      <th>1</th>\n",
       "      <td>1</td>\n",
       "      <td>110</td>\n",
       "      <td>4.0</td>\n",
       "      <td>1225865086</td>\n",
       "    </tr>\n",
       "    <tr>\n",
       "      <th>2</th>\n",
       "      <td>1</td>\n",
       "      <td>158</td>\n",
       "      <td>4.0</td>\n",
       "      <td>1225733503</td>\n",
       "    </tr>\n",
       "    <tr>\n",
       "      <th>3</th>\n",
       "      <td>1</td>\n",
       "      <td>260</td>\n",
       "      <td>4.5</td>\n",
       "      <td>1225735204</td>\n",
       "    </tr>\n",
       "    <tr>\n",
       "      <th>4</th>\n",
       "      <td>1</td>\n",
       "      <td>356</td>\n",
       "      <td>5.0</td>\n",
       "      <td>1225735119</td>\n",
       "    </tr>\n",
       "    <tr>\n",
       "      <th>...</th>\n",
       "      <td>...</td>\n",
       "      <td>...</td>\n",
       "      <td>...</td>\n",
       "      <td>...</td>\n",
       "    </tr>\n",
       "    <tr>\n",
       "      <th>19999995</th>\n",
       "      <td>195551</td>\n",
       "      <td>2194</td>\n",
       "      <td>4.0</td>\n",
       "      <td>945052642</td>\n",
       "    </tr>\n",
       "    <tr>\n",
       "      <th>19999996</th>\n",
       "      <td>195551</td>\n",
       "      <td>2202</td>\n",
       "      <td>3.0</td>\n",
       "      <td>945225684</td>\n",
       "    </tr>\n",
       "    <tr>\n",
       "      <th>19999997</th>\n",
       "      <td>195551</td>\n",
       "      <td>2204</td>\n",
       "      <td>4.0</td>\n",
       "      <td>945225580</td>\n",
       "    </tr>\n",
       "    <tr>\n",
       "      <th>19999998</th>\n",
       "      <td>195551</td>\n",
       "      <td>2208</td>\n",
       "      <td>4.0</td>\n",
       "      <td>945225802</td>\n",
       "    </tr>\n",
       "    <tr>\n",
       "      <th>19999999</th>\n",
       "      <td>195551</td>\n",
       "      <td>2211</td>\n",
       "      <td>3.0</td>\n",
       "      <td>945225866</td>\n",
       "    </tr>\n",
       "  </tbody>\n",
       "</table>\n",
       "<p>20000000 rows × 4 columns</p>\n",
       "</div>"
      ],
      "text/plain": [
       "          userId  movieId  rating   timestamp\n",
       "0              1        1     4.0  1225734739\n",
       "1              1      110     4.0  1225865086\n",
       "2              1      158     4.0  1225733503\n",
       "3              1      260     4.5  1225735204\n",
       "4              1      356     5.0  1225735119\n",
       "...          ...      ...     ...         ...\n",
       "19999995  195551     2194     4.0   945052642\n",
       "19999996  195551     2202     3.0   945225684\n",
       "19999997  195551     2204     4.0   945225580\n",
       "19999998  195551     2208     4.0   945225802\n",
       "19999999  195551     2211     3.0   945225866\n",
       "\n",
       "[20000000 rows x 4 columns]"
      ]
     },
     "execution_count": 21,
     "metadata": {},
     "output_type": "execute_result"
    }
   ],
   "source": [
    "user_ratings.iloc[:20000000]"
   ]
  },
  {
   "cell_type": "code",
   "execution_count": 17,
   "metadata": {},
   "outputs": [
    {
     "name": "stdout",
     "output_type": "stream",
     "text": [
      "62\n"
     ]
    }
   ],
   "source": [
    "count = 0\n",
    "for i in range(len(user_ratings)):\n",
    "    if user_ratings['userId'].iloc[i] == 1: \n",
    "        count +=1\n",
    "print(count)\n",
    "    \n",
    "# 83239"
   ]
  },
  {
   "cell_type": "code",
   "execution_count": 3,
   "metadata": {},
   "outputs": [
    {
     "name": "stdout",
     "output_type": "stream",
     "text": [
      "ada\n"
     ]
    }
   ],
   "source": [
    "len(user_ratings['userId'].unique())\n",
    "for x in user_ratings['userId'].unique(): \n",
    "    if x  == 3: \n",
    "        print('ada')"
   ]
  },
  {
   "cell_type": "code",
   "execution_count": 12,
   "metadata": {},
   "outputs": [
    {
     "data": {
      "text/html": [
       "<div>\n",
       "<style scoped>\n",
       "    .dataframe tbody tr th:only-of-type {\n",
       "        vertical-align: middle;\n",
       "    }\n",
       "\n",
       "    .dataframe tbody tr th {\n",
       "        vertical-align: top;\n",
       "    }\n",
       "\n",
       "    .dataframe thead th {\n",
       "        text-align: right;\n",
       "    }\n",
       "</style>\n",
       "<table border=\"1\" class=\"dataframe\">\n",
       "  <thead>\n",
       "    <tr style=\"text-align: right;\">\n",
       "      <th></th>\n",
       "      <th>userId</th>\n",
       "      <th>movieId</th>\n",
       "      <th>rating</th>\n",
       "      <th>timestamp</th>\n",
       "    </tr>\n",
       "  </thead>\n",
       "  <tbody>\n",
       "    <tr>\n",
       "      <th>0</th>\n",
       "      <td>1</td>\n",
       "      <td>1</td>\n",
       "      <td>4.0</td>\n",
       "      <td>1225734739</td>\n",
       "    </tr>\n",
       "    <tr>\n",
       "      <th>62</th>\n",
       "      <td>2</td>\n",
       "      <td>1</td>\n",
       "      <td>5.0</td>\n",
       "      <td>835815971</td>\n",
       "    </tr>\n",
       "    <tr>\n",
       "      <th>304</th>\n",
       "      <td>7</td>\n",
       "      <td>1</td>\n",
       "      <td>4.0</td>\n",
       "      <td>974518024</td>\n",
       "    </tr>\n",
       "    <tr>\n",
       "      <th>653</th>\n",
       "      <td>10</td>\n",
       "      <td>1</td>\n",
       "      <td>3.0</td>\n",
       "      <td>1430666394</td>\n",
       "    </tr>\n",
       "    <tr>\n",
       "      <th>852</th>\n",
       "      <td>12</td>\n",
       "      <td>1</td>\n",
       "      <td>5.0</td>\n",
       "      <td>862500738</td>\n",
       "    </tr>\n",
       "    <tr>\n",
       "      <th>...</th>\n",
       "      <td>...</td>\n",
       "      <td>...</td>\n",
       "      <td>...</td>\n",
       "      <td>...</td>\n",
       "    </tr>\n",
       "    <tr>\n",
       "      <th>4921359</th>\n",
       "      <td>47791</td>\n",
       "      <td>288967</td>\n",
       "      <td>3.5</td>\n",
       "      <td>1689748357</td>\n",
       "    </tr>\n",
       "    <tr>\n",
       "      <th>10004211</th>\n",
       "      <td>98408</td>\n",
       "      <td>288971</td>\n",
       "      <td>0.5</td>\n",
       "      <td>1689798322</td>\n",
       "    </tr>\n",
       "    <tr>\n",
       "      <th>15711885</th>\n",
       "      <td>154483</td>\n",
       "      <td>288975</td>\n",
       "      <td>4.0</td>\n",
       "      <td>1689812351</td>\n",
       "    </tr>\n",
       "    <tr>\n",
       "      <th>29815852</th>\n",
       "      <td>291389</td>\n",
       "      <td>288977</td>\n",
       "      <td>3.0</td>\n",
       "      <td>1689815902</td>\n",
       "    </tr>\n",
       "    <tr>\n",
       "      <th>26039346</th>\n",
       "      <td>254114</td>\n",
       "      <td>288983</td>\n",
       "      <td>3.0</td>\n",
       "      <td>1689834886</td>\n",
       "    </tr>\n",
       "  </tbody>\n",
       "</table>\n",
       "<p>33832162 rows × 4 columns</p>\n",
       "</div>"
      ],
      "text/plain": [
       "          userId  movieId  rating   timestamp\n",
       "0              1        1     4.0  1225734739\n",
       "62             2        1     5.0   835815971\n",
       "304            7        1     4.0   974518024\n",
       "653           10        1     3.0  1430666394\n",
       "852           12        1     5.0   862500738\n",
       "...          ...      ...     ...         ...\n",
       "4921359    47791   288967     3.5  1689748357\n",
       "10004211   98408   288971     0.5  1689798322\n",
       "15711885  154483   288975     4.0  1689812351\n",
       "29815852  291389   288977     3.0  1689815902\n",
       "26039346  254114   288983     3.0  1689834886\n",
       "\n",
       "[33832162 rows x 4 columns]"
      ]
     },
     "execution_count": 12,
     "metadata": {},
     "output_type": "execute_result"
    }
   ],
   "source": [
    "user_ratings.sort_values(by=['movieId', 'userId'])"
   ]
  },
  {
   "cell_type": "code",
   "execution_count": 15,
   "metadata": {},
   "outputs": [],
   "source": [
    "all_ratings = [[x for x in range(330975)] * 10000]"
   ]
  },
  {
   "cell_type": "code",
   "execution_count": null,
   "metadata": {},
   "outputs": [],
   "source": [
    "all_movies_id_sorted = np.sort([x for x in user_ratings['movieId'].unique()])\n",
    "all_users_id_sorted = np.sort([x for x in user_ratings['userId'].unique()]) \n",
    "index_user_sorted = 0\n",
    "all_ratings  = []\n",
    "temp = []\n",
    "\n",
    "\n",
    "for i in range(len(user_ratings)): \n",
    "    # if i > 0: \n",
    "    #     adding = int(user_ratings['userId'].iloc[i]) - int(user_ratings['userId'].iloc[i - 1]) \n",
    "    #     if adding != 0: \n",
    "    #         for i in range(adding): \n",
    "    #             temp.append(0)\n",
    "    #     temp.append(user_ratings['rating'].iloc[i])\n",
    "    # else: \n",
    "    #     temp.append(user_ratings['rating'].iloc[i])\n",
    "    print(f'perulangan ke {i}')\n",
    "\n",
    "\n",
    "# for i in all_movies_id_sorted: \n",
    "    # for j in range(len(user_ratings)): \n",
    "    #     if user_ratings['movieId'].iloc[j] == i: \n",
    "    #         if j >  1: \n",
    "    #             if int(user_ratings['userId'].iloc[j]) - int(user_ratings['userId'].iloc[j - 1]) != 0:\n",
    "    #                 adding = int(user_ratings['userId'].iloc[j]) - int(user_ratings['userId'].iloc[j - 1]) \n",
    "    #                 for k in range(adding): \n",
    "    #                     temp.append(0)\n",
    "    #             temp.append(user_ratings['rating'].iloc[j])\n",
    "    # break\n",
    "# for j in all_movies_id_sorted:\n",
    "#     for i in range(len(user_ratings)): \n",
    "#         if user_ratings['userId'].iloc[i] == all_users_id_sorted[index_user_sorted] and user_ratings['movieId'].iloc[i] == j: \n",
    "#             temp.append( user_ratings['rating'].iloc[i])\n",
    "#             index_user_sorted += 1\n",
    "#     all_ratings.append(temp)\n",
    "# for i in range(83240):\n",
    "#     for j in user_ratings: \n",
    "#         index += 1\n",
    "# print('selesai')\n",
    "\n",
    "# for movie_id in all_movies_id: \n",
    "#     for iteration in range (len(user_ratings)):\n",
    "#         if user_ratings['movieId'].loc[iteration]  == movie_id and user_ratings['userId'].loc[iteration] == user_id: \n",
    "#             temp.append(user_ratings['rating'].loc[iteration])\n",
    "#             user_id  +=1\n",
    "#     all_ratings.append(temp)\n",
    "#     temp = []\n",
    "# for x in range(len(user_ratings)):\n",
    "#     if user_ratings['movieId'].iloc[x] == all_movies_id[index] and user_ratings['userId'].iloc[x] == all_users_id[index]:\n",
    "#         all_ratings.append()\n",
    "\n"
   ]
  },
  {
   "cell_type": "code",
   "execution_count": null,
   "metadata": {},
   "outputs": [],
   "source": [
    "index"
   ]
  },
  {
   "cell_type": "code",
   "execution_count": null,
   "metadata": {},
   "outputs": [],
   "source": [
    "all_ratings"
   ]
  },
  {
   "cell_type": "code",
   "execution_count": null,
   "metadata": {},
   "outputs": [],
   "source": [
    "user_ratings['rating'].iloc[0]"
   ]
  },
  {
   "cell_type": "code",
   "execution_count": 1,
   "metadata": {},
   "outputs": [
    {
     "ename": "NameError",
     "evalue": "name 'pd' is not defined",
     "output_type": "error",
     "traceback": [
      "\u001b[1;31m---------------------------------------------------------------------------\u001b[0m",
      "\u001b[1;31mNameError\u001b[0m                                 Traceback (most recent call last)",
      "Cell \u001b[1;32mIn[1], line 2\u001b[0m\n\u001b[0;32m      1\u001b[0m \u001b[38;5;66;03m#  convert to sql\u001b[39;00m\n\u001b[1;32m----> 2\u001b[0m data_ratings \u001b[38;5;241m=\u001b[39m \u001b[43mpd\u001b[49m\u001b[38;5;241m.\u001b[39mread_excel(\u001b[38;5;124m\"\u001b[39m\u001b[38;5;124m./app/model/data/recipe/small_ratings.xlsx\u001b[39m\u001b[38;5;124m\"\u001b[39m)\n\u001b[0;32m      3\u001b[0m data_ratings\u001b[38;5;241m.\u001b[39mhead()\n",
      "\u001b[1;31mNameError\u001b[0m: name 'pd' is not defined"
     ]
    }
   ],
   "source": [
    "#  convert to sql\n",
    "data_ratings = pd.read_excel(\"./app/model/data/recipe/small_ratings.xlsx\")\n",
    "data_ratings.head()"
   ]
  },
  {
   "cell_type": "code",
   "execution_count": 8,
   "metadata": {},
   "outputs": [
    {
     "data": {
      "text/plain": [
       "3"
      ]
     },
     "execution_count": 8,
     "metadata": {},
     "output_type": "execute_result"
    }
   ],
   "source": [
    "from sqlalchemy import create_engine\n",
    "engine = create_engine('sqlite://', echo=False)\n",
    "# Create a table from scratch with 3 rows.\n",
    "\n",
    "df = pd.DataFrame({'name' : ['User 1', 'User 2', 'User 3']})\n",
    "df\n",
    "#      name\n",
    "# 0  User 1\n",
    "# 1  User 2\n",
    "# 2  User 3\n",
    "df.to_sql('users', con=engine)"
   ]
  },
  {
   "cell_type": "code",
   "execution_count": 12,
   "metadata": {},
   "outputs": [
    {
     "data": {
      "text/plain": [
       "5987"
      ]
     },
     "execution_count": 12,
     "metadata": {},
     "output_type": "execute_result"
    }
   ],
   "source": [
    "import pandas as pd\n",
    "from sqlalchemy import create_engine\n",
    "\n",
    "# Ganti 'nama_file.xlsx' dengan nama file Excel Anda\n",
    "excel_file = './app/model/data/recipe/small_ratings.xlsx'\n",
    "\n",
    "# Baca file Excel ke DataFrame pandas\n",
    "df = pd.read_excel(excel_file)\n",
    "\n",
    "# Ganti 'sqlite:///example.db' dengan koneksi database SQL Anda\n",
    "# Untuk SQLite, gunakan format 'sqlite:///nama_database.db'\n",
    "engine = create_engine('mysql+mysqlconnector://root:@localhost:3306/small-ratings')\n",
    "\n",
    "# Tulis DataFrame ke tabel SQL\n",
    "df.to_sql('user-ratings', engine, index=False, if_exists='replace')\n",
    "\n",
    "# print(\"Konversi selesai. Data telah dimuat ke dalam tabel SQL.\")\n",
    "\n",
    "# http://localhost:8081/phpmyadmin/index.php?route=/database/structure&db=small-ratings"
   ]
  },
  {
   "cell_type": "code",
   "execution_count": null,
   "metadata": {},
   "outputs": [],
   "source": [
    "data_ratings.to_sql(name = \"small-ratings.sql\", )"
   ]
  }
 ],
 "metadata": {
  "kernelspec": {
   "display_name": "base",
   "language": "python",
   "name": "python3"
  },
  "language_info": {
   "codemirror_mode": {
    "name": "ipython",
    "version": 3
   },
   "file_extension": ".py",
   "mimetype": "text/x-python",
   "name": "python",
   "nbconvert_exporter": "python",
   "pygments_lexer": "ipython3",
   "version": "3.11.2"
  }
 },
 "nbformat": 4,
 "nbformat_minor": 2
}
